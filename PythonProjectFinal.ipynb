{
 "cells": [
  {
   "cell_type": "markdown",
   "metadata": {
    "colab_type": "text",
    "id": "38tA-ErIC4OD"
   },
   "source": [
    "# Project: Real estate market analysis\n"
   ]
  },
  {
   "cell_type": "code",
   "execution_count": 1,
   "metadata": {
    "colab": {},
    "colab_type": "code",
    "id": "fCGVacN5C4OM"
   },
   "outputs": [],
   "source": [
    "\n",
    "import numpy as np\n",
    "import pandas as pd\n",
    "import matplotlib.pyplot as plt\n",
    "import seaborn as sns\n"
   ]
  },
  {
   "cell_type": "code",
   "execution_count": 2,
   "metadata": {},
   "outputs": [],
   "source": [
    "data_prope=pd.read_csv('DS_Proyecto_01_Datos_Properati.csv')"
   ]
  },
  {
   "cell_type": "code",
   "execution_count": 3,
   "metadata": {
    "colab": {},
    "colab_type": "code",
    "id": "YL2eAd_tC4Oa"
   },
   "outputs": [
    {
     "name": "stdout",
     "output_type": "stream",
     "text": [
      "The first five rows are:\n"
     ]
    },
    {
     "data": {
      "text/html": [
       "<div>\n",
       "<style scoped>\n",
       "    .dataframe tbody tr th:only-of-type {\n",
       "        vertical-align: middle;\n",
       "    }\n",
       "\n",
       "    .dataframe tbody tr th {\n",
       "        vertical-align: top;\n",
       "    }\n",
       "\n",
       "    .dataframe thead th {\n",
       "        text-align: right;\n",
       "    }\n",
       "</style>\n",
       "<table border=\"1\" class=\"dataframe\">\n",
       "  <thead>\n",
       "    <tr style=\"text-align: right;\">\n",
       "      <th></th>\n",
       "      <th>start_date</th>\n",
       "      <th>end_date</th>\n",
       "      <th>created_on</th>\n",
       "      <th>lat</th>\n",
       "      <th>lon</th>\n",
       "      <th>l1</th>\n",
       "      <th>l2</th>\n",
       "      <th>l3</th>\n",
       "      <th>rooms</th>\n",
       "      <th>bedrooms</th>\n",
       "      <th>bathrooms</th>\n",
       "      <th>surface_total</th>\n",
       "      <th>surface_covered</th>\n",
       "      <th>price</th>\n",
       "      <th>currency</th>\n",
       "      <th>title</th>\n",
       "      <th>description</th>\n",
       "      <th>property_type</th>\n",
       "      <th>operation_type</th>\n",
       "    </tr>\n",
       "  </thead>\n",
       "  <tbody>\n",
       "    <tr>\n",
       "      <th>0</th>\n",
       "      <td>2019-10-17</td>\n",
       "      <td>2019-12-23</td>\n",
       "      <td>2019-10-17</td>\n",
       "      <td>-34.605880</td>\n",
       "      <td>-58.384949</td>\n",
       "      <td>Argentina</td>\n",
       "      <td>Capital Federal</td>\n",
       "      <td>San Cristobal</td>\n",
       "      <td>7.0</td>\n",
       "      <td>7.0</td>\n",
       "      <td>2.0</td>\n",
       "      <td>140.0</td>\n",
       "      <td>140.0</td>\n",
       "      <td>153000.0</td>\n",
       "      <td>USD</td>\n",
       "      <td>***Venta semipiso centro, ideal hostel*****</td>\n",
       "      <td>DESCRIPCION DE LA PROPIEDAD: Departamento de 1...</td>\n",
       "      <td>Departamento</td>\n",
       "      <td>Venta</td>\n",
       "    </tr>\n",
       "    <tr>\n",
       "      <th>1</th>\n",
       "      <td>2019-10-17</td>\n",
       "      <td>2019-11-21</td>\n",
       "      <td>2019-10-17</td>\n",
       "      <td>-34.624056</td>\n",
       "      <td>-58.412110</td>\n",
       "      <td>Argentina</td>\n",
       "      <td>Capital Federal</td>\n",
       "      <td>Boedo</td>\n",
       "      <td>2.0</td>\n",
       "      <td>1.0</td>\n",
       "      <td>2.0</td>\n",
       "      <td>70.0</td>\n",
       "      <td>58.0</td>\n",
       "      <td>159000.0</td>\n",
       "      <td>USD</td>\n",
       "      <td>Espectacular PH reciclado en Boedo sin expensas.</td>\n",
       "      <td>PH reciclado en Boedo a una cuadra de la plaz...</td>\n",
       "      <td>PH</td>\n",
       "      <td>Venta</td>\n",
       "    </tr>\n",
       "    <tr>\n",
       "      <th>2</th>\n",
       "      <td>2019-10-17</td>\n",
       "      <td>2019-11-01</td>\n",
       "      <td>2019-10-17</td>\n",
       "      <td>-34.593569</td>\n",
       "      <td>-58.427474</td>\n",
       "      <td>Argentina</td>\n",
       "      <td>Capital Federal</td>\n",
       "      <td>Palermo</td>\n",
       "      <td>2.0</td>\n",
       "      <td>1.0</td>\n",
       "      <td>1.0</td>\n",
       "      <td>45.0</td>\n",
       "      <td>45.0</td>\n",
       "      <td>125000.0</td>\n",
       "      <td>USD</td>\n",
       "      <td>Depto.tipo casa de 2 ambientes en Venta en Pal...</td>\n",
       "      <td>2 ambienets amplio , excelente estado , patio ...</td>\n",
       "      <td>PH</td>\n",
       "      <td>Venta</td>\n",
       "    </tr>\n",
       "    <tr>\n",
       "      <th>3</th>\n",
       "      <td>2019-10-17</td>\n",
       "      <td>2019-12-23</td>\n",
       "      <td>2019-10-17</td>\n",
       "      <td>-34.581294</td>\n",
       "      <td>-58.436754</td>\n",
       "      <td>Argentina</td>\n",
       "      <td>Capital Federal</td>\n",
       "      <td>Palermo</td>\n",
       "      <td>2.0</td>\n",
       "      <td>1.0</td>\n",
       "      <td>1.0</td>\n",
       "      <td>85.0</td>\n",
       "      <td>50.0</td>\n",
       "      <td>295000.0</td>\n",
       "      <td>USD</td>\n",
       "      <td>COSTA RICA 5800 / PALERMO HOLLYWOOD / VENTA PH...</td>\n",
       "      <td>HERMOSO PH EN PALERMO!!!2 AMBIENTES TOTALMENTE...</td>\n",
       "      <td>PH</td>\n",
       "      <td>Venta</td>\n",
       "    </tr>\n",
       "    <tr>\n",
       "      <th>4</th>\n",
       "      <td>2019-10-17</td>\n",
       "      <td>2020-03-11</td>\n",
       "      <td>2019-10-17</td>\n",
       "      <td>-34.914194</td>\n",
       "      <td>-57.938219</td>\n",
       "      <td>Argentina</td>\n",
       "      <td>Bs.As. G.B.A. Zona Sur</td>\n",
       "      <td>La Plata</td>\n",
       "      <td>2.0</td>\n",
       "      <td>1.0</td>\n",
       "      <td>1.0</td>\n",
       "      <td>50.0</td>\n",
       "      <td>35.0</td>\n",
       "      <td>40000.0</td>\n",
       "      <td>USD</td>\n",
       "      <td>58 entre 1 y 2  Venta de departamento en ph.1 ...</td>\n",
       "      <td>58 entre 1 y 2  Venta de departamento en PH. P...</td>\n",
       "      <td>PH</td>\n",
       "      <td>Venta</td>\n",
       "    </tr>\n",
       "  </tbody>\n",
       "</table>\n",
       "</div>"
      ],
      "text/plain": [
       "   start_date    end_date  created_on        lat        lon         l1  \\\n",
       "0  2019-10-17  2019-12-23  2019-10-17 -34.605880 -58.384949  Argentina   \n",
       "1  2019-10-17  2019-11-21  2019-10-17 -34.624056 -58.412110  Argentina   \n",
       "2  2019-10-17  2019-11-01  2019-10-17 -34.593569 -58.427474  Argentina   \n",
       "3  2019-10-17  2019-12-23  2019-10-17 -34.581294 -58.436754  Argentina   \n",
       "4  2019-10-17  2020-03-11  2019-10-17 -34.914194 -57.938219  Argentina   \n",
       "\n",
       "                       l2             l3  rooms  bedrooms  bathrooms  \\\n",
       "0         Capital Federal  San Cristobal    7.0       7.0        2.0   \n",
       "1         Capital Federal          Boedo    2.0       1.0        2.0   \n",
       "2         Capital Federal        Palermo    2.0       1.0        1.0   \n",
       "3         Capital Federal        Palermo    2.0       1.0        1.0   \n",
       "4  Bs.As. G.B.A. Zona Sur       La Plata    2.0       1.0        1.0   \n",
       "\n",
       "   surface_total  surface_covered     price currency  \\\n",
       "0          140.0            140.0  153000.0      USD   \n",
       "1           70.0             58.0  159000.0      USD   \n",
       "2           45.0             45.0  125000.0      USD   \n",
       "3           85.0             50.0  295000.0      USD   \n",
       "4           50.0             35.0   40000.0      USD   \n",
       "\n",
       "                                               title  \\\n",
       "0        ***Venta semipiso centro, ideal hostel*****   \n",
       "1   Espectacular PH reciclado en Boedo sin expensas.   \n",
       "2  Depto.tipo casa de 2 ambientes en Venta en Pal...   \n",
       "3  COSTA RICA 5800 / PALERMO HOLLYWOOD / VENTA PH...   \n",
       "4  58 entre 1 y 2  Venta de departamento en ph.1 ...   \n",
       "\n",
       "                                         description property_type  \\\n",
       "0  DESCRIPCION DE LA PROPIEDAD: Departamento de 1...  Departamento   \n",
       "1   PH reciclado en Boedo a una cuadra de la plaz...            PH   \n",
       "2  2 ambienets amplio , excelente estado , patio ...            PH   \n",
       "3  HERMOSO PH EN PALERMO!!!2 AMBIENTES TOTALMENTE...            PH   \n",
       "4  58 entre 1 y 2  Venta de departamento en PH. P...            PH   \n",
       "\n",
       "  operation_type  \n",
       "0          Venta  \n",
       "1          Venta  \n",
       "2          Venta  \n",
       "3          Venta  \n",
       "4          Venta  "
      ]
     },
     "execution_count": 3,
     "metadata": {},
     "output_type": "execute_result"
    }
   ],
   "source": [
    "print('The first five rows are:')\n",
    "data_prope.head(5)\n"
   ]
  },
  {
   "cell_type": "code",
   "execution_count": 4,
   "metadata": {},
   "outputs": [
    {
     "name": "stdout",
     "output_type": "stream",
     "text": [
      "The size of the dataset is :  (146660, 19)\n"
     ]
    }
   ],
   "source": [
    "print('The size of the dataset is : ',data_prope.shape)\n"
   ]
  },
  {
   "cell_type": "code",
   "execution_count": 5,
   "metadata": {},
   "outputs": [
    {
     "name": "stdout",
     "output_type": "stream",
     "text": [
      "El tipo de datos de cada columna es: \n"
     ]
    },
    {
     "data": {
      "text/plain": [
       "start_date          object\n",
       "end_date            object\n",
       "created_on          object\n",
       "lat                float64\n",
       "lon                float64\n",
       "l1                  object\n",
       "l2                  object\n",
       "l3                  object\n",
       "rooms              float64\n",
       "bedrooms           float64\n",
       "bathrooms          float64\n",
       "surface_total      float64\n",
       "surface_covered    float64\n",
       "price              float64\n",
       "currency            object\n",
       "title               object\n",
       "description         object\n",
       "property_type       object\n",
       "operation_type      object\n",
       "dtype: object"
      ]
     },
     "execution_count": 5,
     "metadata": {},
     "output_type": "execute_result"
    }
   ],
   "source": [
    "print('El tipo de datos de cada columna es: ')\n",
    "data_prope.dtypes\n"
   ]
  },
  {
   "cell_type": "code",
   "execution_count": 6,
   "metadata": {},
   "outputs": [
    {
     "name": "stdout",
     "output_type": "stream",
     "text": [
      "The column names are: Index(['start_date', 'end_date', 'created_on', 'lat', 'lon', 'l1', 'l2', 'l3',\n",
      "       'rooms', 'bedrooms', 'bathrooms', 'surface_total', 'surface_covered',\n",
      "       'price', 'currency', 'title', 'description', 'property_type',\n",
      "       'operation_type'],\n",
      "      dtype='object')\n"
     ]
    }
   ],
   "source": [
    "\n",
    "print('The column names are:', data_prope.columns)"
   ]
  },
  {
   "cell_type": "code",
   "execution_count": 7,
   "metadata": {
    "colab": {},
    "colab_type": "code",
    "id": "1QletBbgC4Oi"
   },
   "outputs": [
    {
     "name": "stdout",
     "output_type": "stream",
     "text": [
      "The number of missing values per columns is:\n",
      "start_date             0\n",
      "end_date               0\n",
      "created_on             0\n",
      "lat                 9925\n",
      "lon                 9959\n",
      "l1                     0\n",
      "l2                     0\n",
      "l3                     0\n",
      "rooms                  0\n",
      "bedrooms               0\n",
      "bathrooms           5957\n",
      "surface_total      20527\n",
      "surface_covered    21614\n",
      "price                  0\n",
      "currency               0\n",
      "title                  0\n",
      "description            0\n",
      "property_type          0\n",
      "operation_type         0\n",
      "dtype: int64\n"
     ]
    }
   ],
   "source": [
    "\n",
    "print ('The number of missing values per columns is:')\n",
    "print (data_prope.isna (). sum ())\n"
   ]
  },
  {
   "cell_type": "code",
   "execution_count": 8,
   "metadata": {},
   "outputs": [
    {
     "data": {
      "text/html": [
       "<div>\n",
       "<style scoped>\n",
       "    .dataframe tbody tr th:only-of-type {\n",
       "        vertical-align: middle;\n",
       "    }\n",
       "\n",
       "    .dataframe tbody tr th {\n",
       "        vertical-align: top;\n",
       "    }\n",
       "\n",
       "    .dataframe thead th {\n",
       "        text-align: right;\n",
       "    }\n",
       "</style>\n",
       "<table border=\"1\" class=\"dataframe\">\n",
       "  <thead>\n",
       "    <tr style=\"text-align: right;\">\n",
       "      <th></th>\n",
       "      <th>start_date</th>\n",
       "      <th>end_date</th>\n",
       "      <th>created_on</th>\n",
       "      <th>l1</th>\n",
       "      <th>l2</th>\n",
       "      <th>l3</th>\n",
       "      <th>rooms</th>\n",
       "      <th>bedrooms</th>\n",
       "      <th>bathrooms</th>\n",
       "      <th>surface_total</th>\n",
       "      <th>surface_covered</th>\n",
       "      <th>price</th>\n",
       "      <th>currency</th>\n",
       "      <th>title</th>\n",
       "      <th>description</th>\n",
       "      <th>property_type</th>\n",
       "      <th>operation_type</th>\n",
       "    </tr>\n",
       "  </thead>\n",
       "  <tbody>\n",
       "    <tr>\n",
       "      <th>0</th>\n",
       "      <td>2019-10-17</td>\n",
       "      <td>2019-12-23</td>\n",
       "      <td>2019-10-17</td>\n",
       "      <td>Argentina</td>\n",
       "      <td>Capital Federal</td>\n",
       "      <td>San Cristobal</td>\n",
       "      <td>7.0</td>\n",
       "      <td>7.0</td>\n",
       "      <td>2.0</td>\n",
       "      <td>140.0</td>\n",
       "      <td>140.0</td>\n",
       "      <td>153000.0</td>\n",
       "      <td>USD</td>\n",
       "      <td>***Venta semipiso centro, ideal hostel*****</td>\n",
       "      <td>DESCRIPCION DE LA PROPIEDAD: Departamento de 1...</td>\n",
       "      <td>Departamento</td>\n",
       "      <td>Venta</td>\n",
       "    </tr>\n",
       "    <tr>\n",
       "      <th>1</th>\n",
       "      <td>2019-10-17</td>\n",
       "      <td>2019-11-21</td>\n",
       "      <td>2019-10-17</td>\n",
       "      <td>Argentina</td>\n",
       "      <td>Capital Federal</td>\n",
       "      <td>Boedo</td>\n",
       "      <td>2.0</td>\n",
       "      <td>1.0</td>\n",
       "      <td>2.0</td>\n",
       "      <td>70.0</td>\n",
       "      <td>58.0</td>\n",
       "      <td>159000.0</td>\n",
       "      <td>USD</td>\n",
       "      <td>Espectacular PH reciclado en Boedo sin expensas.</td>\n",
       "      <td>PH reciclado en Boedo a una cuadra de la plaz...</td>\n",
       "      <td>PH</td>\n",
       "      <td>Venta</td>\n",
       "    </tr>\n",
       "    <tr>\n",
       "      <th>2</th>\n",
       "      <td>2019-10-17</td>\n",
       "      <td>2019-11-01</td>\n",
       "      <td>2019-10-17</td>\n",
       "      <td>Argentina</td>\n",
       "      <td>Capital Federal</td>\n",
       "      <td>Palermo</td>\n",
       "      <td>2.0</td>\n",
       "      <td>1.0</td>\n",
       "      <td>1.0</td>\n",
       "      <td>45.0</td>\n",
       "      <td>45.0</td>\n",
       "      <td>125000.0</td>\n",
       "      <td>USD</td>\n",
       "      <td>Depto.tipo casa de 2 ambientes en Venta en Pal...</td>\n",
       "      <td>2 ambienets amplio , excelente estado , patio ...</td>\n",
       "      <td>PH</td>\n",
       "      <td>Venta</td>\n",
       "    </tr>\n",
       "    <tr>\n",
       "      <th>3</th>\n",
       "      <td>2019-10-17</td>\n",
       "      <td>2019-12-23</td>\n",
       "      <td>2019-10-17</td>\n",
       "      <td>Argentina</td>\n",
       "      <td>Capital Federal</td>\n",
       "      <td>Palermo</td>\n",
       "      <td>2.0</td>\n",
       "      <td>1.0</td>\n",
       "      <td>1.0</td>\n",
       "      <td>85.0</td>\n",
       "      <td>50.0</td>\n",
       "      <td>295000.0</td>\n",
       "      <td>USD</td>\n",
       "      <td>COSTA RICA 5800 / PALERMO HOLLYWOOD / VENTA PH...</td>\n",
       "      <td>HERMOSO PH EN PALERMO!!!2 AMBIENTES TOTALMENTE...</td>\n",
       "      <td>PH</td>\n",
       "      <td>Venta</td>\n",
       "    </tr>\n",
       "    <tr>\n",
       "      <th>4</th>\n",
       "      <td>2019-10-17</td>\n",
       "      <td>2020-03-11</td>\n",
       "      <td>2019-10-17</td>\n",
       "      <td>Argentina</td>\n",
       "      <td>Bs.As. G.B.A. Zona Sur</td>\n",
       "      <td>La Plata</td>\n",
       "      <td>2.0</td>\n",
       "      <td>1.0</td>\n",
       "      <td>1.0</td>\n",
       "      <td>50.0</td>\n",
       "      <td>35.0</td>\n",
       "      <td>40000.0</td>\n",
       "      <td>USD</td>\n",
       "      <td>58 entre 1 y 2  Venta de departamento en ph.1 ...</td>\n",
       "      <td>58 entre 1 y 2  Venta de departamento en PH. P...</td>\n",
       "      <td>PH</td>\n",
       "      <td>Venta</td>\n",
       "    </tr>\n",
       "    <tr>\n",
       "      <th>...</th>\n",
       "      <td>...</td>\n",
       "      <td>...</td>\n",
       "      <td>...</td>\n",
       "      <td>...</td>\n",
       "      <td>...</td>\n",
       "      <td>...</td>\n",
       "      <td>...</td>\n",
       "      <td>...</td>\n",
       "      <td>...</td>\n",
       "      <td>...</td>\n",
       "      <td>...</td>\n",
       "      <td>...</td>\n",
       "      <td>...</td>\n",
       "      <td>...</td>\n",
       "      <td>...</td>\n",
       "      <td>...</td>\n",
       "      <td>...</td>\n",
       "    </tr>\n",
       "    <tr>\n",
       "      <th>146655</th>\n",
       "      <td>2019-07-31</td>\n",
       "      <td>2019-08-13</td>\n",
       "      <td>2019-07-31</td>\n",
       "      <td>Argentina</td>\n",
       "      <td>Bs.As. G.B.A. Zona Sur</td>\n",
       "      <td>Berazategui</td>\n",
       "      <td>2.0</td>\n",
       "      <td>1.0</td>\n",
       "      <td>1.0</td>\n",
       "      <td>54.0</td>\n",
       "      <td>48.0</td>\n",
       "      <td>165000.0</td>\n",
       "      <td>USD</td>\n",
       "      <td>Departamento en Venta en Barrio Privado Barran...</td>\n",
       "      <td>Departamento de 2 ambientesCocina con alacena ...</td>\n",
       "      <td>Departamento</td>\n",
       "      <td>Venta</td>\n",
       "    </tr>\n",
       "    <tr>\n",
       "      <th>146656</th>\n",
       "      <td>2019-07-31</td>\n",
       "      <td>2019-08-14</td>\n",
       "      <td>2019-07-31</td>\n",
       "      <td>Argentina</td>\n",
       "      <td>Bs.As. G.B.A. Zona Norte</td>\n",
       "      <td>Pilar</td>\n",
       "      <td>4.0</td>\n",
       "      <td>3.0</td>\n",
       "      <td>2.0</td>\n",
       "      <td>164.0</td>\n",
       "      <td>90.0</td>\n",
       "      <td>130000.0</td>\n",
       "      <td>USD</td>\n",
       "      <td>Venta departamentos tres dormitorios jardín co...</td>\n",
       "      <td>Muy buen duplex a estrenar en dos plantas más ...</td>\n",
       "      <td>Departamento</td>\n",
       "      <td>Venta</td>\n",
       "    </tr>\n",
       "    <tr>\n",
       "      <th>146657</th>\n",
       "      <td>2019-07-31</td>\n",
       "      <td>2019-08-14</td>\n",
       "      <td>2019-07-31</td>\n",
       "      <td>Argentina</td>\n",
       "      <td>Bs.As. G.B.A. Zona Norte</td>\n",
       "      <td>Pilar</td>\n",
       "      <td>1.0</td>\n",
       "      <td>1.0</td>\n",
       "      <td>1.0</td>\n",
       "      <td>50.0</td>\n",
       "      <td>35.0</td>\n",
       "      <td>73000.0</td>\n",
       "      <td>USD</td>\n",
       "      <td>Venta departamento de un ambiente Manzanares C...</td>\n",
       "      <td>En los Condominios de Campo Manzanares Chico, ...</td>\n",
       "      <td>Departamento</td>\n",
       "      <td>Venta</td>\n",
       "    </tr>\n",
       "    <tr>\n",
       "      <th>146658</th>\n",
       "      <td>2019-07-31</td>\n",
       "      <td>2019-08-14</td>\n",
       "      <td>2019-07-31</td>\n",
       "      <td>Argentina</td>\n",
       "      <td>Bs.As. G.B.A. Zona Norte</td>\n",
       "      <td>Pilar</td>\n",
       "      <td>2.0</td>\n",
       "      <td>1.0</td>\n",
       "      <td>1.0</td>\n",
       "      <td>38.0</td>\n",
       "      <td>38.0</td>\n",
       "      <td>68000.0</td>\n",
       "      <td>USD</td>\n",
       "      <td>Departamento en Venta. Manzanares chico.</td>\n",
       "      <td>Broker: Maria 11Departamento de dos ambientes ...</td>\n",
       "      <td>Departamento</td>\n",
       "      <td>Venta</td>\n",
       "    </tr>\n",
       "    <tr>\n",
       "      <th>146659</th>\n",
       "      <td>2019-07-31</td>\n",
       "      <td>2019-10-12</td>\n",
       "      <td>2019-07-31</td>\n",
       "      <td>Argentina</td>\n",
       "      <td>Bs.As. G.B.A. Zona Norte</td>\n",
       "      <td>Pilar</td>\n",
       "      <td>3.0</td>\n",
       "      <td>2.0</td>\n",
       "      <td>1.0</td>\n",
       "      <td>75.0</td>\n",
       "      <td>75.0</td>\n",
       "      <td>98000.0</td>\n",
       "      <td>USD</td>\n",
       "      <td>Departamento en venta en Manzanares Chico</td>\n",
       "      <td>Departamento en el Barrio Manzanares Chico , e...</td>\n",
       "      <td>Departamento</td>\n",
       "      <td>Venta</td>\n",
       "    </tr>\n",
       "  </tbody>\n",
       "</table>\n",
       "<p>146660 rows × 17 columns</p>\n",
       "</div>"
      ],
      "text/plain": [
       "        start_date    end_date  created_on         l1  \\\n",
       "0       2019-10-17  2019-12-23  2019-10-17  Argentina   \n",
       "1       2019-10-17  2019-11-21  2019-10-17  Argentina   \n",
       "2       2019-10-17  2019-11-01  2019-10-17  Argentina   \n",
       "3       2019-10-17  2019-12-23  2019-10-17  Argentina   \n",
       "4       2019-10-17  2020-03-11  2019-10-17  Argentina   \n",
       "...            ...         ...         ...        ...   \n",
       "146655  2019-07-31  2019-08-13  2019-07-31  Argentina   \n",
       "146656  2019-07-31  2019-08-14  2019-07-31  Argentina   \n",
       "146657  2019-07-31  2019-08-14  2019-07-31  Argentina   \n",
       "146658  2019-07-31  2019-08-14  2019-07-31  Argentina   \n",
       "146659  2019-07-31  2019-10-12  2019-07-31  Argentina   \n",
       "\n",
       "                              l2             l3  rooms  bedrooms  bathrooms  \\\n",
       "0                Capital Federal  San Cristobal    7.0       7.0        2.0   \n",
       "1                Capital Federal          Boedo    2.0       1.0        2.0   \n",
       "2                Capital Federal        Palermo    2.0       1.0        1.0   \n",
       "3                Capital Federal        Palermo    2.0       1.0        1.0   \n",
       "4         Bs.As. G.B.A. Zona Sur       La Plata    2.0       1.0        1.0   \n",
       "...                          ...            ...    ...       ...        ...   \n",
       "146655    Bs.As. G.B.A. Zona Sur    Berazategui    2.0       1.0        1.0   \n",
       "146656  Bs.As. G.B.A. Zona Norte          Pilar    4.0       3.0        2.0   \n",
       "146657  Bs.As. G.B.A. Zona Norte          Pilar    1.0       1.0        1.0   \n",
       "146658  Bs.As. G.B.A. Zona Norte          Pilar    2.0       1.0        1.0   \n",
       "146659  Bs.As. G.B.A. Zona Norte          Pilar    3.0       2.0        1.0   \n",
       "\n",
       "        surface_total  surface_covered     price currency  \\\n",
       "0               140.0            140.0  153000.0      USD   \n",
       "1                70.0             58.0  159000.0      USD   \n",
       "2                45.0             45.0  125000.0      USD   \n",
       "3                85.0             50.0  295000.0      USD   \n",
       "4                50.0             35.0   40000.0      USD   \n",
       "...               ...              ...       ...      ...   \n",
       "146655           54.0             48.0  165000.0      USD   \n",
       "146656          164.0             90.0  130000.0      USD   \n",
       "146657           50.0             35.0   73000.0      USD   \n",
       "146658           38.0             38.0   68000.0      USD   \n",
       "146659           75.0             75.0   98000.0      USD   \n",
       "\n",
       "                                                    title  \\\n",
       "0             ***Venta semipiso centro, ideal hostel*****   \n",
       "1        Espectacular PH reciclado en Boedo sin expensas.   \n",
       "2       Depto.tipo casa de 2 ambientes en Venta en Pal...   \n",
       "3       COSTA RICA 5800 / PALERMO HOLLYWOOD / VENTA PH...   \n",
       "4       58 entre 1 y 2  Venta de departamento en ph.1 ...   \n",
       "...                                                   ...   \n",
       "146655  Departamento en Venta en Barrio Privado Barran...   \n",
       "146656  Venta departamentos tres dormitorios jardín co...   \n",
       "146657  Venta departamento de un ambiente Manzanares C...   \n",
       "146658           Departamento en Venta. Manzanares chico.   \n",
       "146659          Departamento en venta en Manzanares Chico   \n",
       "\n",
       "                                              description property_type  \\\n",
       "0       DESCRIPCION DE LA PROPIEDAD: Departamento de 1...  Departamento   \n",
       "1        PH reciclado en Boedo a una cuadra de la plaz...            PH   \n",
       "2       2 ambienets amplio , excelente estado , patio ...            PH   \n",
       "3       HERMOSO PH EN PALERMO!!!2 AMBIENTES TOTALMENTE...            PH   \n",
       "4       58 entre 1 y 2  Venta de departamento en PH. P...            PH   \n",
       "...                                                   ...           ...   \n",
       "146655  Departamento de 2 ambientesCocina con alacena ...  Departamento   \n",
       "146656  Muy buen duplex a estrenar en dos plantas más ...  Departamento   \n",
       "146657  En los Condominios de Campo Manzanares Chico, ...  Departamento   \n",
       "146658  Broker: Maria 11Departamento de dos ambientes ...  Departamento   \n",
       "146659  Departamento en el Barrio Manzanares Chico , e...  Departamento   \n",
       "\n",
       "       operation_type  \n",
       "0               Venta  \n",
       "1               Venta  \n",
       "2               Venta  \n",
       "3               Venta  \n",
       "4               Venta  \n",
       "...               ...  \n",
       "146655          Venta  \n",
       "146656          Venta  \n",
       "146657          Venta  \n",
       "146658          Venta  \n",
       "146659          Venta  \n",
       "\n",
       "[146660 rows x 17 columns]"
      ]
     },
     "execution_count": 8,
     "metadata": {},
     "output_type": "execute_result"
    }
   ],
   "source": [
    "data_prope=data_prope.drop(['lat','lon'],axis='columns')\n",
    "data_prope"
   ]
  },
  {
   "cell_type": "code",
   "execution_count": 9,
   "metadata": {},
   "outputs": [
    {
     "data": {
      "text/plain": [
       "array(['Departamento', 'PH', 'Casa', 'Lote', 'Casa de campo', 'Oficina',\n",
       "       'Otro', 'Local comercial', 'Cochera', 'Depósito'], dtype=object)"
      ]
     },
     "execution_count": 9,
     "metadata": {},
     "output_type": "execute_result"
    }
   ],
   "source": [
    "data_prope.property_type.unique()"
   ]
  },
  {
   "cell_type": "code",
   "execution_count": 10,
   "metadata": {},
   "outputs": [
    {
     "name": "stdout",
     "output_type": "stream",
     "text": [
      "Departamento\n",
      "bathrooms 2\n",
      "surface_total 99.1917567120716\n",
      "surface_covered 85.2763145220844\n",
      "PH\n",
      "bathrooms 1\n",
      "surface_total 172.98207354082857\n",
      "surface_covered 130.31980485045605\n",
      "Casa\n",
      "bathrooms 2\n",
      "surface_total 660.102806552638\n",
      "surface_covered 249.149855907781\n",
      "Lote\n",
      "bathrooms 2\n",
      "surface_total 2481.002836879433\n",
      "surface_covered 215.3939393939394\n",
      "Casa de campo\n",
      "bathrooms 2\n",
      "surface_total 4018.5813953488373\n",
      "surface_covered 315.22868217054264\n",
      "Oficina\n",
      "bathrooms 2\n",
      "surface_total 81.95685279187818\n",
      "surface_covered 78.76392572944297\n",
      "Otro\n",
      "bathrooms 2\n",
      "surface_total 8249.772727272728\n",
      "surface_covered 202.54954954954954\n",
      "Local comercial\n",
      "bathrooms 2\n",
      "surface_total 258.5833333333333\n",
      "surface_covered 156.9090909090909\n",
      "Cochera\n",
      "bathrooms 1\n",
      "surface_total 13.5\n",
      "surface_covered 13.5\n",
      "Depósito\n",
      "bathrooms 2\n",
      "surface_total 624.375\n",
      "surface_covered 347.42857142857144\n"
     ]
    }
   ],
   "source": [
    "for  i in ['Departamento', 'PH', 'Casa', 'Lote', 'Casa de campo', 'Oficina',\n",
    "       'Otro', 'Local comercial', 'Cochera', 'Depósito']:\n",
    "    print(i)\n",
    "    cic=data_prope.loc[(data_prope['property_type']==i)]\n",
    "    \n",
    "    avg=cic['bathrooms'].mean()\n",
    "    data_prope.loc[(data_prope['property_type']==i)&(data_prope['bathrooms'].isnull()),'bathrooms']=round(avg)\n",
    "    print('bathrooms',round(avg))\n",
    "    \n",
    "    avg=cic['surface_total'].mean()\n",
    "    data_prope.loc[(data_prope['property_type']==i)&(data_prope['surface_total'].isnull()),'surface_total']=avg\n",
    "    print('surface_total',avg)\n",
    "        \n",
    "    avg=cic['surface_covered'].mean()\n",
    "    data_prope.loc[(data_prope['property_type']==i)&(data_prope['surface_covered'].isnull()),'surface_covered']=avg\n",
    "    print('surface_covered',avg)\n"
   ]
  },
  {
   "cell_type": "code",
   "execution_count": 11,
   "metadata": {},
   "outputs": [
    {
     "name": "stdout",
     "output_type": "stream",
     "text": [
      "start_date         0\n",
      "end_date           0\n",
      "created_on         0\n",
      "l1                 0\n",
      "l2                 0\n",
      "l3                 0\n",
      "rooms              0\n",
      "bedrooms           0\n",
      "bathrooms          0\n",
      "surface_total      0\n",
      "surface_covered    0\n",
      "price              0\n",
      "currency           0\n",
      "title              0\n",
      "description        0\n",
      "property_type      0\n",
      "operation_type     0\n",
      "dtype: int64\n"
     ]
    }
   ],
   "source": [
    "print (data_prope.isna (). sum ())"
   ]
  },
  {
   "cell_type": "code",
   "execution_count": 12,
   "metadata": {
    "colab": {},
    "colab_type": "code",
    "id": "jDQy8tzfC4PA"
   },
   "outputs": [
    {
     "data": {
      "text/html": [
       "<div>\n",
       "<style scoped>\n",
       "    .dataframe tbody tr th:only-of-type {\n",
       "        vertical-align: middle;\n",
       "    }\n",
       "\n",
       "    .dataframe tbody tr th {\n",
       "        vertical-align: top;\n",
       "    }\n",
       "\n",
       "    .dataframe thead th {\n",
       "        text-align: right;\n",
       "    }\n",
       "</style>\n",
       "<table border=\"1\" class=\"dataframe\">\n",
       "  <thead>\n",
       "    <tr style=\"text-align: right;\">\n",
       "      <th></th>\n",
       "      <th>rooms</th>\n",
       "      <th>bedrooms</th>\n",
       "      <th>bathrooms</th>\n",
       "      <th>surface_total</th>\n",
       "      <th>surface_covered</th>\n",
       "      <th>price</th>\n",
       "    </tr>\n",
       "  </thead>\n",
       "  <tbody>\n",
       "    <tr>\n",
       "      <th>count</th>\n",
       "      <td>146660.000000</td>\n",
       "      <td>146660.000000</td>\n",
       "      <td>146660.000000</td>\n",
       "      <td>146660.000000</td>\n",
       "      <td>146660.000000</td>\n",
       "      <td>1.466600e+05</td>\n",
       "    </tr>\n",
       "    <tr>\n",
       "      <th>mean</th>\n",
       "      <td>3.079817</td>\n",
       "      <td>1.983240</td>\n",
       "      <td>1.613323</td>\n",
       "      <td>240.465169</td>\n",
       "      <td>116.158963</td>\n",
       "      <td>2.412211e+05</td>\n",
       "    </tr>\n",
       "    <tr>\n",
       "      <th>std</th>\n",
       "      <td>1.416352</td>\n",
       "      <td>1.151304</td>\n",
       "      <td>0.875030</td>\n",
       "      <td>1916.696860</td>\n",
       "      <td>847.149064</td>\n",
       "      <td>3.185195e+05</td>\n",
       "    </tr>\n",
       "    <tr>\n",
       "      <th>min</th>\n",
       "      <td>1.000000</td>\n",
       "      <td>0.000000</td>\n",
       "      <td>1.000000</td>\n",
       "      <td>10.000000</td>\n",
       "      <td>1.000000</td>\n",
       "      <td>5.500000e+03</td>\n",
       "    </tr>\n",
       "    <tr>\n",
       "      <th>25%</th>\n",
       "      <td>2.000000</td>\n",
       "      <td>1.000000</td>\n",
       "      <td>1.000000</td>\n",
       "      <td>55.000000</td>\n",
       "      <td>50.000000</td>\n",
       "      <td>1.110000e+05</td>\n",
       "    </tr>\n",
       "    <tr>\n",
       "      <th>50%</th>\n",
       "      <td>3.000000</td>\n",
       "      <td>2.000000</td>\n",
       "      <td>1.000000</td>\n",
       "      <td>90.000000</td>\n",
       "      <td>77.000000</td>\n",
       "      <td>1.660000e+05</td>\n",
       "    </tr>\n",
       "    <tr>\n",
       "      <th>75%</th>\n",
       "      <td>4.000000</td>\n",
       "      <td>3.000000</td>\n",
       "      <td>2.000000</td>\n",
       "      <td>145.000000</td>\n",
       "      <td>112.000000</td>\n",
       "      <td>2.650000e+05</td>\n",
       "    </tr>\n",
       "    <tr>\n",
       "      <th>max</th>\n",
       "      <td>35.000000</td>\n",
       "      <td>15.000000</td>\n",
       "      <td>14.000000</td>\n",
       "      <td>193549.000000</td>\n",
       "      <td>126062.000000</td>\n",
       "      <td>3.243423e+07</td>\n",
       "    </tr>\n",
       "  </tbody>\n",
       "</table>\n",
       "</div>"
      ],
      "text/plain": [
       "               rooms       bedrooms      bathrooms  surface_total  \\\n",
       "count  146660.000000  146660.000000  146660.000000  146660.000000   \n",
       "mean        3.079817       1.983240       1.613323     240.465169   \n",
       "std         1.416352       1.151304       0.875030    1916.696860   \n",
       "min         1.000000       0.000000       1.000000      10.000000   \n",
       "25%         2.000000       1.000000       1.000000      55.000000   \n",
       "50%         3.000000       2.000000       1.000000      90.000000   \n",
       "75%         4.000000       3.000000       2.000000     145.000000   \n",
       "max        35.000000      15.000000      14.000000  193549.000000   \n",
       "\n",
       "       surface_covered         price  \n",
       "count    146660.000000  1.466600e+05  \n",
       "mean        116.158963  2.412211e+05  \n",
       "std         847.149064  3.185195e+05  \n",
       "min           1.000000  5.500000e+03  \n",
       "25%          50.000000  1.110000e+05  \n",
       "50%          77.000000  1.660000e+05  \n",
       "75%         112.000000  2.650000e+05  \n",
       "max      126062.000000  3.243423e+07  "
      ]
     },
     "execution_count": 12,
     "metadata": {},
     "output_type": "execute_result"
    }
   ],
   "source": [
    "\n",
    "data_prope.describe()"
   ]
  },
  {
   "cell_type": "code",
   "execution_count": 13,
   "metadata": {},
   "outputs": [
    {
     "name": "stdout",
     "output_type": "stream",
     "text": [
      "The size of the dataset without null values is: (146660, 17)\n"
     ]
    }
   ],
   "source": [
    "print('The size of the dataset without null values is:', data_prope.shape)"
   ]
  },
  {
   "cell_type": "code",
   "execution_count": 14,
   "metadata": {},
   "outputs": [
    {
     "name": "stdout",
     "output_type": "stream",
     "text": [
      "<class 'pandas.core.frame.DataFrame'>\n",
      "RangeIndex: 146660 entries, 0 to 146659\n",
      "Data columns (total 17 columns):\n",
      " #   Column           Non-Null Count   Dtype  \n",
      "---  ------           --------------   -----  \n",
      " 0   start_date       146660 non-null  object \n",
      " 1   end_date         146660 non-null  object \n",
      " 2   created_on       146660 non-null  object \n",
      " 3   l1               146660 non-null  object \n",
      " 4   l2               146660 non-null  object \n",
      " 5   l3               146660 non-null  object \n",
      " 6   rooms            146660 non-null  float64\n",
      " 7   bedrooms         146660 non-null  float64\n",
      " 8   bathrooms        146660 non-null  float64\n",
      " 9   surface_total    146660 non-null  float64\n",
      " 10  surface_covered  146660 non-null  float64\n",
      " 11  price            146660 non-null  float64\n",
      " 12  currency         146660 non-null  object \n",
      " 13  title            146660 non-null  object \n",
      " 14  description      146660 non-null  object \n",
      " 15  property_type    146660 non-null  object \n",
      " 16  operation_type   146660 non-null  object \n",
      "dtypes: float64(6), object(11)\n",
      "memory usage: 19.0+ MB\n"
     ]
    }
   ],
   "source": [
    "data_prope.info()"
   ]
  },
  {
   "cell_type": "code",
   "execution_count": 15,
   "metadata": {},
   "outputs": [
    {
     "name": "stdout",
     "output_type": "stream",
     "text": [
      "The property types in the dataset are:\n"
     ]
    },
    {
     "data": {
      "text/plain": [
       "10"
      ]
     },
     "execution_count": 15,
     "metadata": {},
     "output_type": "execute_result"
    }
   ],
   "source": [
    "print ('The property types in the dataset are:')\n",
    "len (data_prope ['property_type']. unique ())"
   ]
  },
  {
   "cell_type": "code",
   "execution_count": 16,
   "metadata": {},
   "outputs": [
    {
     "name": "stdout",
     "output_type": "stream",
     "text": [
      "The number of instances for each property type in the dataset is:\n"
     ]
    },
    {
     "data": {
      "text/plain": [
       "Departamento       107326\n",
       "Casa                21521\n",
       "PH                  14298\n",
       "Lote                 1312\n",
       "Oficina               658\n",
       "Otro                  374\n",
       "Local comercial       325\n",
       "Casa de campo         322\n",
       "Depósito              265\n",
       "Cochera               259\n",
       "Name: property_type, dtype: int64"
      ]
     },
     "execution_count": 16,
     "metadata": {},
     "output_type": "execute_result"
    }
   ],
   "source": [
    "print ('The number of instances for each property type in the dataset is:')\n",
    "data_prope ['property_type']. value_counts ()"
   ]
  },
  {
   "cell_type": "code",
   "execution_count": 17,
   "metadata": {},
   "outputs": [
    {
     "data": {
      "text/html": [
       "<div>\n",
       "<style scoped>\n",
       "    .dataframe tbody tr th:only-of-type {\n",
       "        vertical-align: middle;\n",
       "    }\n",
       "\n",
       "    .dataframe tbody tr th {\n",
       "        vertical-align: top;\n",
       "    }\n",
       "\n",
       "    .dataframe thead th {\n",
       "        text-align: right;\n",
       "    }\n",
       "</style>\n",
       "<table border=\"1\" class=\"dataframe\">\n",
       "  <thead>\n",
       "    <tr style=\"text-align: right;\">\n",
       "      <th></th>\n",
       "      <th></th>\n",
       "      <th>surface_covered</th>\n",
       "    </tr>\n",
       "    <tr>\n",
       "      <th>l2</th>\n",
       "      <th>l3</th>\n",
       "      <th></th>\n",
       "    </tr>\n",
       "  </thead>\n",
       "  <tbody>\n",
       "    <tr>\n",
       "      <th rowspan=\"5\" valign=\"top\">Bs.As. G.B.A. Zona Norte</th>\n",
       "      <th>Escobar</th>\n",
       "      <td>250.638116</td>\n",
       "    </tr>\n",
       "    <tr>\n",
       "      <th>General San Martín</th>\n",
       "      <td>123.723115</td>\n",
       "    </tr>\n",
       "    <tr>\n",
       "      <th>José C Paz</th>\n",
       "      <td>125.239133</td>\n",
       "    </tr>\n",
       "    <tr>\n",
       "      <th>Malvinas Argentinas</th>\n",
       "      <td>249.757052</td>\n",
       "    </tr>\n",
       "    <tr>\n",
       "      <th>Pilar</th>\n",
       "      <td>196.253831</td>\n",
       "    </tr>\n",
       "    <tr>\n",
       "      <th>...</th>\n",
       "      <th>...</th>\n",
       "      <td>...</td>\n",
       "    </tr>\n",
       "    <tr>\n",
       "      <th rowspan=\"5\" valign=\"top\">Capital Federal</th>\n",
       "      <th>Villa Riachuelo</th>\n",
       "      <td>106.150903</td>\n",
       "    </tr>\n",
       "    <tr>\n",
       "      <th>Villa Santa Rita</th>\n",
       "      <td>81.353653</td>\n",
       "    </tr>\n",
       "    <tr>\n",
       "      <th>Villa Soldati</th>\n",
       "      <td>285.343514</td>\n",
       "    </tr>\n",
       "    <tr>\n",
       "      <th>Villa Urquiza</th>\n",
       "      <td>74.660522</td>\n",
       "    </tr>\n",
       "    <tr>\n",
       "      <th>Villa del Parque</th>\n",
       "      <td>85.711691</td>\n",
       "    </tr>\n",
       "  </tbody>\n",
       "</table>\n",
       "<p>89 rows × 1 columns</p>\n",
       "</div>"
      ],
      "text/plain": [
       "                                              surface_covered\n",
       "l2                       l3                                  \n",
       "Bs.As. G.B.A. Zona Norte Escobar                   250.638116\n",
       "                         General San Martín        123.723115\n",
       "                         José C Paz                125.239133\n",
       "                         Malvinas Argentinas       249.757052\n",
       "                         Pilar                     196.253831\n",
       "...                                                       ...\n",
       "Capital Federal          Villa Riachuelo           106.150903\n",
       "                         Villa Santa Rita           81.353653\n",
       "                         Villa Soldati             285.343514\n",
       "                         Villa Urquiza              74.660522\n",
       "                         Villa del Parque           85.711691\n",
       "\n",
       "[89 rows x 1 columns]"
      ]
     },
     "execution_count": 17,
     "metadata": {},
     "output_type": "execute_result"
    }
   ],
   "source": [
    "Surface_cover_mean_zone = data_prope.pivot_table(index=[\"l2\",\"l3\"],values=\"surface_covered\",aggfunc=np.mean)\n",
    "Surface_cover_mean_zone"
   ]
  },
  {
   "cell_type": "code",
   "execution_count": 18,
   "metadata": {},
   "outputs": [
    {
     "data": {
      "text/html": [
       "<div>\n",
       "<style scoped>\n",
       "    .dataframe tbody tr th:only-of-type {\n",
       "        vertical-align: middle;\n",
       "    }\n",
       "\n",
       "    .dataframe tbody tr th {\n",
       "        vertical-align: top;\n",
       "    }\n",
       "\n",
       "    .dataframe thead th {\n",
       "        text-align: right;\n",
       "    }\n",
       "</style>\n",
       "<table border=\"1\" class=\"dataframe\">\n",
       "  <thead>\n",
       "    <tr style=\"text-align: right;\">\n",
       "      <th></th>\n",
       "      <th>l1</th>\n",
       "      <th>l2</th>\n",
       "      <th>l3</th>\n",
       "    </tr>\n",
       "  </thead>\n",
       "  <tbody>\n",
       "    <tr>\n",
       "      <th>0</th>\n",
       "      <td>Argentina</td>\n",
       "      <td>Capital Federal</td>\n",
       "      <td>San Cristobal</td>\n",
       "    </tr>\n",
       "    <tr>\n",
       "      <th>1</th>\n",
       "      <td>Argentina</td>\n",
       "      <td>Capital Federal</td>\n",
       "      <td>Boedo</td>\n",
       "    </tr>\n",
       "    <tr>\n",
       "      <th>2</th>\n",
       "      <td>Argentina</td>\n",
       "      <td>Capital Federal</td>\n",
       "      <td>Palermo</td>\n",
       "    </tr>\n",
       "    <tr>\n",
       "      <th>3</th>\n",
       "      <td>Argentina</td>\n",
       "      <td>Capital Federal</td>\n",
       "      <td>Palermo</td>\n",
       "    </tr>\n",
       "  </tbody>\n",
       "</table>\n",
       "</div>"
      ],
      "text/plain": [
       "          l1               l2             l3\n",
       "0  Argentina  Capital Federal  San Cristobal\n",
       "1  Argentina  Capital Federal          Boedo\n",
       "2  Argentina  Capital Federal        Palermo\n",
       "3  Argentina  Capital Federal        Palermo"
      ]
     },
     "execution_count": 18,
     "metadata": {},
     "output_type": "execute_result"
    }
   ],
   "source": [
    "#\n",
    "df= data_prope\n",
    "colum_place = df.columns.tolist()\n",
    "place_columns = []\n",
    "\n",
    "for l in colum_place:\n",
    "        if l.startswith(\"l\"):\n",
    "            place_columns.append(l)\n",
    "\n",
    "columns_with_p = data_prope[place_columns]\n",
    "columns_with_p.head(4)"
   ]
  },
  {
   "cell_type": "code",
   "execution_count": 19,
   "metadata": {
    "scrolled": true
   },
   "outputs": [
    {
     "data": {
      "text/plain": [
       "0         cheap\n",
       "1         cheap\n",
       "2         cheap\n",
       "3         cheap\n",
       "4         cheap\n",
       "          ...  \n",
       "146655    cheap\n",
       "146656    cheap\n",
       "146657    cheap\n",
       "146658    cheap\n",
       "146659    cheap\n",
       "Name: price_label, Length: 146660, dtype: object"
      ]
     },
     "execution_count": 19,
     "metadata": {},
     "output_type": "execute_result"
    }
   ],
   "source": [
    "def affordable_price (row):\n",
    "    price = row[\"price\"]\n",
    "    if price<990000:\n",
    "        return(\"cheap\")\n",
    "    elif (990001 >= price <= 12434232):\n",
    "        return(\"affordable\")\n",
    "    else:\n",
    "        return(\"expensive\")\n",
    "data_prope[\"price_label\"] =data_prope.apply(affordable_price, axis=1)\n",
    "data_prope[\"price_label\"]"
   ]
  },
  {
   "cell_type": "code",
   "execution_count": 20,
   "metadata": {},
   "outputs": [
    {
     "data": {
      "text/plain": [
       "32434232.0"
      ]
     },
     "execution_count": 20,
     "metadata": {},
     "output_type": "execute_result"
    }
   ],
   "source": [
    "data_prope[\"price\"].max()"
   ]
  },
  {
   "cell_type": "code",
   "execution_count": 21,
   "metadata": {},
   "outputs": [
    {
     "data": {
      "text/html": [
       "<div>\n",
       "<style scoped>\n",
       "    .dataframe tbody tr th:only-of-type {\n",
       "        vertical-align: middle;\n",
       "    }\n",
       "\n",
       "    .dataframe tbody tr th {\n",
       "        vertical-align: top;\n",
       "    }\n",
       "\n",
       "    .dataframe thead th {\n",
       "        text-align: right;\n",
       "    }\n",
       "</style>\n",
       "<table border=\"1\" class=\"dataframe\">\n",
       "  <thead>\n",
       "    <tr style=\"text-align: right;\">\n",
       "      <th></th>\n",
       "      <th>price</th>\n",
       "    </tr>\n",
       "    <tr>\n",
       "      <th>price_label</th>\n",
       "      <th></th>\n",
       "    </tr>\n",
       "  </thead>\n",
       "  <tbody>\n",
       "    <tr>\n",
       "      <th>affordable</th>\n",
       "      <td>4.950000e+07</td>\n",
       "    </tr>\n",
       "    <tr>\n",
       "      <th>cheap</th>\n",
       "      <td>3.000416e+10</td>\n",
       "    </tr>\n",
       "    <tr>\n",
       "      <th>expensive</th>\n",
       "      <td>5.323826e+09</td>\n",
       "    </tr>\n",
       "  </tbody>\n",
       "</table>\n",
       "</div>"
      ],
      "text/plain": [
       "                    price\n",
       "price_label              \n",
       "affordable   4.950000e+07\n",
       "cheap        3.000416e+10\n",
       "expensive    5.323826e+09"
      ]
     },
     "execution_count": 21,
     "metadata": {},
     "output_type": "execute_result"
    }
   ],
   "source": [
    "sum_price =data_prope.pivot_table(index=\"price_label\",values=\"price\",aggfunc=np.sum)\n",
    "sum_price"
   ]
  },
  {
   "cell_type": "code",
   "execution_count": 22,
   "metadata": {},
   "outputs": [
    {
     "data": {
      "text/html": [
       "<div>\n",
       "<style scoped>\n",
       "    .dataframe tbody tr th:only-of-type {\n",
       "        vertical-align: middle;\n",
       "    }\n",
       "\n",
       "    .dataframe tbody tr th {\n",
       "        vertical-align: top;\n",
       "    }\n",
       "\n",
       "    .dataframe thead th {\n",
       "        text-align: right;\n",
       "    }\n",
       "</style>\n",
       "<table border=\"1\" class=\"dataframe\">\n",
       "  <thead>\n",
       "    <tr style=\"text-align: right;\">\n",
       "      <th></th>\n",
       "      <th>price</th>\n",
       "    </tr>\n",
       "    <tr>\n",
       "      <th>price_label</th>\n",
       "      <th></th>\n",
       "    </tr>\n",
       "  </thead>\n",
       "  <tbody>\n",
       "    <tr>\n",
       "      <th>affordable</th>\n",
       "      <td>9.900000e+05</td>\n",
       "    </tr>\n",
       "    <tr>\n",
       "      <th>cheap</th>\n",
       "      <td>2.089703e+05</td>\n",
       "    </tr>\n",
       "    <tr>\n",
       "      <th>expensive</th>\n",
       "      <td>1.757618e+06</td>\n",
       "    </tr>\n",
       "  </tbody>\n",
       "</table>\n",
       "</div>"
      ],
      "text/plain": [
       "                    price\n",
       "price_label              \n",
       "affordable   9.900000e+05\n",
       "cheap        2.089703e+05\n",
       "expensive    1.757618e+06"
      ]
     },
     "execution_count": 22,
     "metadata": {},
     "output_type": "execute_result"
    }
   ],
   "source": [
    "mean_price =data_prope.pivot_table(index=\"price_label\",values=\"price\",aggfunc=np.mean)\n",
    "mean_price"
   ]
  },
  {
   "cell_type": "code",
   "execution_count": 23,
   "metadata": {},
   "outputs": [
    {
     "data": {
      "text/plain": [
       "count    146660.000000\n",
       "mean          1.613323\n",
       "std           0.875030\n",
       "min           1.000000\n",
       "25%           1.000000\n",
       "50%           1.000000\n",
       "75%           2.000000\n",
       "max          14.000000\n",
       "Name: int_surface, dtype: float64"
      ]
     },
     "execution_count": 23,
     "metadata": {},
     "output_type": "execute_result"
    }
   ],
   "source": [
    "def extract_data(price_s):\n",
    "    if pd.isnull(price_s):\n",
    "        return data_prope[\"bathrooms\"].mean()\n",
    "     \n",
    "    return int(price_s)\n",
    "\n",
    "data_prope[\"int_surface\"] = data_prope[\"bathrooms\"].apply(extract_data) \n",
    "data_prope[\"int_surface\"].describe()"
   ]
  },
  {
   "cell_type": "code",
   "execution_count": 24,
   "metadata": {},
   "outputs": [
    {
     "data": {
      "text/plain": [
       "count    1.466600e+05\n",
       "mean     2.412211e+05\n",
       "std      3.185195e+05\n",
       "min      5.500000e+03\n",
       "25%      1.110000e+05\n",
       "50%      1.660000e+05\n",
       "75%      2.650000e+05\n",
       "max      3.243423e+07\n",
       "Name: price, dtype: float64"
      ]
     },
     "execution_count": 24,
     "metadata": {},
     "output_type": "execute_result"
    }
   ],
   "source": [
    "data_prope[\"price\"].describe()"
   ]
  },
  {
   "cell_type": "code",
   "execution_count": 25,
   "metadata": {},
   "outputs": [
    {
     "data": {
      "image/png": "[encoded data removed]",
      "text/plain": [
       "<Figure size 432x288 with 1 Axes>"
      ]
     },
     "metadata": {
      "needs_background": "light"
     },
     "output_type": "display_data"
    }
   ],
   "source": [
    "graph1 = sns.countplot (x = 'property_type', data = data_prope,\n",
    "               order = data_prope ['property_type']. value_counts (). index)\n",
    "graph1.set_xticklabels (graph1.get_xticklabels (), rotation = 90, ha = 'right')\n",
    "plt.title ('Number of instances per property type')\n",
    "plt.xlabel ('Property Type')\n",
    "plt.ylabel ('Quantity')\n",
    "plt.show ()\n"
   ]
  },
  {
   "cell_type": "code",
   "execution_count": 26,
   "metadata": {},
   "outputs": [
    {
     "name": "stdout",
     "output_type": "stream",
     "text": [
      "Posts are from regions: ['Capital Federal' 'Bs.As. G.B.A. Zona Sur' 'Bs.As. G.B.A. Zona Norte'\n",
      " 'Bs.As. G.B.A. Zona Oeste']\n"
     ]
    },
    {
     "data": {
      "image/png": "[encoded data removed]",
      "text/plain": [
       "<Figure size 432x288 with 1 Axes>"
      ]
     },
     "metadata": {
      "needs_background": "light"
     },
     "output_type": "display_data"
    },
    {
     "data": {
      "image/png": "[encoded data removed]",
      "text/plain": [
       "<Figure size 2880x360 with 1 Axes>"
      ]
     },
     "metadata": {
      "needs_background": "light"
     },
     "output_type": "display_data"
    }
   ],
   "source": [
    "print ('Posts are from regions:', data_prope ['l2']. unique ())\n",
    "\n",
    "plt.subplot (1,2,1)\n",
    "data_prope.l2.value_counts (). plot (kind = 'bar', alpha = 0.9)\n",
    "plt.title ('Posts by region l2')\n",
    "plt.xlabel ('Quantity')\n",
    "plt.ylabel ('Region')\n",
    "plt.show ()\n",
    "\n",
    "plt.subplot (1,2,2)\n",
    "#fig = plt.figure (figsize = (30,10))\n",
    "data_prope.l3.value_counts (). plot (kind = 'bar', alpha = 0.9, figsize = (40,5))\n",
    "plt.title ('Publications by Subregion l3')\n",
    "plt.xlabel ('Quantity')\n",
    "plt.ylabel ('Sub-region')\n",
    "plt.show ()\n"
   ]
  },
  {
   "cell_type": "code",
   "execution_count": 27,
   "metadata": {
    "colab": {},
    "colab_type": "code",
    "id": "vbmACahUC4O6"
   },
   "outputs": [
    {
     "name": "stdout",
     "output_type": "stream",
     "text": [
      " the dataset is filtered by property types: House, Apartment, PH, also by region: Federal Capital. The size of the dataset is now:\n"
     ]
    },
    {
     "data": {
      "text/plain": [
       "(91485, 19)"
      ]
     },
     "execution_count": 27,
     "metadata": {},
     "output_type": "execute_result"
    }
   ],
   "source": [
    "\n",
    "print (' the dataset is filtered by property types: House, Apartment, PH, also by region: Federal Capital. The size of the dataset is now:')\n",
    "data_edit = data_prope [(data_prope.property_type.isin (['Departamento', 'Casa', 'PH'])) & (data_prope.l2.isin (['Capital Federal']))]\n",
    "data_edit.shape\n"
   ]
  },
  {
   "cell_type": "code",
   "execution_count": 28,
   "metadata": {
    "scrolled": true
   },
   "outputs": [
    {
     "data": {
      "text/plain": [
       "Text(0, 0.5, 'Total Area')"
      ]
     },
     "execution_count": 28,
     "metadata": {},
     "output_type": "execute_result"
    },
    {
     "data": {
      "image/png": "[encoded data removed]",
      "text/plain": [
       "<Figure size 432x288 with 1 Axes>"
      ]
     },
     "metadata": {
      "needs_background": "light"
     },
     "output_type": "display_data"
    }
   ],
   "source": [
    "sns.boxplot (data = data_edit, x = 'property_type', y = 'surface_total')\n",
    "plt.title ('Box plot of the total area according to the type of property')\n",
    "plt.xlabel ('Property Type')\n",
    "plt.ylabel ('Total Area')\n"
   ]
  },
  {
   "cell_type": "markdown",
   "metadata": {},
   "source": [
    "The rule says that anything around 1.5 * IQR is considered rare, therefore it is an outlier."
   ]
  },
  {
   "cell_type": "code",
   "execution_count": 29,
   "metadata": {},
   "outputs": [],
   "source": [
    "def remove_outlier(data_edit,surface_total):\n",
    "    q1 = data_edit['surface_total'].quantile(0.25)\n",
    "    q3 = data_edit['surface_total'].quantile(0.75)\n",
    "    iqr = q3-q1 #Interquartile range\n",
    "    fence_low  = q1-1.5*iqr\n",
    "    fence_high = q3+1.5*iqr\n",
    "    data_edit_out = data_edit.loc[(data_edit['surface_total'] > fence_low) & (data_edit['surface_total'] < fence_high)]\n",
    "    return data_edit_out\n"
   ]
  },
  {
   "cell_type": "code",
   "execution_count": 30,
   "metadata": {},
   "outputs": [
    {
     "data": {
      "text/plain": [
       "(83216, 19)"
      ]
     },
     "execution_count": 30,
     "metadata": {},
     "output_type": "execute_result"
    }
   ],
   "source": [
    "data_no_out=remove_outlier(data_edit, 'surface_total')\n",
    "data_no_out.shape"
   ]
  },
  {
   "cell_type": "code",
   "execution_count": 31,
   "metadata": {},
   "outputs": [
    {
     "data": {
      "text/plain": [
       "Text(0, 0.5, 'Total Area')"
      ]
     },
     "execution_count": 31,
     "metadata": {},
     "output_type": "execute_result"
    },
    {
     "data": {
      "image/png": "[encoded data removed]",
      "text/plain": [
       "<Figure size 432x288 with 1 Axes>"
      ]
     },
     "metadata": {
      "needs_background": "light"
     },
     "output_type": "display_data"
    }
   ],
   "source": [
    "sns.boxplot (data = data_no_out, x = 'property_type', y = 'surface_total')\n",
    "plt.title ('Box plot of the total area according to the type of property')\n",
    "plt.xlabel ('Property Type')\n",
    "plt.ylabel ('Total Area')"
   ]
  },
  {
   "cell_type": "code",
   "execution_count": 32,
   "metadata": {},
   "outputs": [
    {
     "name": "stdout",
     "output_type": "stream",
     "text": [
      "El tamaño del dataset enel que todas las instancias tienen una superficie total, mayor a una superficie cubierta, es: (82167, 19)\n"
     ]
    },
    {
     "data": {
      "text/html": [
       "<div>\n",
       "<style scoped>\n",
       "    .dataframe tbody tr th:only-of-type {\n",
       "        vertical-align: middle;\n",
       "    }\n",
       "\n",
       "    .dataframe tbody tr th {\n",
       "        vertical-align: top;\n",
       "    }\n",
       "\n",
       "    .dataframe thead th {\n",
       "        text-align: right;\n",
       "    }\n",
       "</style>\n",
       "<table border=\"1\" class=\"dataframe\">\n",
       "  <thead>\n",
       "    <tr style=\"text-align: right;\">\n",
       "      <th></th>\n",
       "      <th>start_date</th>\n",
       "      <th>end_date</th>\n",
       "      <th>created_on</th>\n",
       "      <th>l1</th>\n",
       "      <th>l2</th>\n",
       "      <th>l3</th>\n",
       "      <th>rooms</th>\n",
       "      <th>bedrooms</th>\n",
       "      <th>bathrooms</th>\n",
       "      <th>surface_total</th>\n",
       "      <th>surface_covered</th>\n",
       "      <th>price</th>\n",
       "      <th>currency</th>\n",
       "      <th>title</th>\n",
       "      <th>description</th>\n",
       "      <th>property_type</th>\n",
       "      <th>operation_type</th>\n",
       "      <th>price_label</th>\n",
       "      <th>int_surface</th>\n",
       "    </tr>\n",
       "  </thead>\n",
       "  <tbody>\n",
       "    <tr>\n",
       "      <th>0</th>\n",
       "      <td>2019-10-17</td>\n",
       "      <td>2019-12-23</td>\n",
       "      <td>2019-10-17</td>\n",
       "      <td>Argentina</td>\n",
       "      <td>Capital Federal</td>\n",
       "      <td>San Cristobal</td>\n",
       "      <td>7.0</td>\n",
       "      <td>7.0</td>\n",
       "      <td>2.0</td>\n",
       "      <td>140.0</td>\n",
       "      <td>140.0</td>\n",
       "      <td>153000.0</td>\n",
       "      <td>USD</td>\n",
       "      <td>***Venta semipiso centro, ideal hostel*****</td>\n",
       "      <td>DESCRIPCION DE LA PROPIEDAD: Departamento de 1...</td>\n",
       "      <td>Departamento</td>\n",
       "      <td>Venta</td>\n",
       "      <td>cheap</td>\n",
       "      <td>2</td>\n",
       "    </tr>\n",
       "    <tr>\n",
       "      <th>1</th>\n",
       "      <td>2019-10-17</td>\n",
       "      <td>2019-11-21</td>\n",
       "      <td>2019-10-17</td>\n",
       "      <td>Argentina</td>\n",
       "      <td>Capital Federal</td>\n",
       "      <td>Boedo</td>\n",
       "      <td>2.0</td>\n",
       "      <td>1.0</td>\n",
       "      <td>2.0</td>\n",
       "      <td>70.0</td>\n",
       "      <td>58.0</td>\n",
       "      <td>159000.0</td>\n",
       "      <td>USD</td>\n",
       "      <td>Espectacular PH reciclado en Boedo sin expensas.</td>\n",
       "      <td>PH reciclado en Boedo a una cuadra de la plaz...</td>\n",
       "      <td>PH</td>\n",
       "      <td>Venta</td>\n",
       "      <td>cheap</td>\n",
       "      <td>2</td>\n",
       "    </tr>\n",
       "    <tr>\n",
       "      <th>2</th>\n",
       "      <td>2019-10-17</td>\n",
       "      <td>2019-11-01</td>\n",
       "      <td>2019-10-17</td>\n",
       "      <td>Argentina</td>\n",
       "      <td>Capital Federal</td>\n",
       "      <td>Palermo</td>\n",
       "      <td>2.0</td>\n",
       "      <td>1.0</td>\n",
       "      <td>1.0</td>\n",
       "      <td>45.0</td>\n",
       "      <td>45.0</td>\n",
       "      <td>125000.0</td>\n",
       "      <td>USD</td>\n",
       "      <td>Depto.tipo casa de 2 ambientes en Venta en Pal...</td>\n",
       "      <td>2 ambienets amplio , excelente estado , patio ...</td>\n",
       "      <td>PH</td>\n",
       "      <td>Venta</td>\n",
       "      <td>cheap</td>\n",
       "      <td>1</td>\n",
       "    </tr>\n",
       "    <tr>\n",
       "      <th>3</th>\n",
       "      <td>2019-10-17</td>\n",
       "      <td>2019-12-23</td>\n",
       "      <td>2019-10-17</td>\n",
       "      <td>Argentina</td>\n",
       "      <td>Capital Federal</td>\n",
       "      <td>Palermo</td>\n",
       "      <td>2.0</td>\n",
       "      <td>1.0</td>\n",
       "      <td>1.0</td>\n",
       "      <td>85.0</td>\n",
       "      <td>50.0</td>\n",
       "      <td>295000.0</td>\n",
       "      <td>USD</td>\n",
       "      <td>COSTA RICA 5800 / PALERMO HOLLYWOOD / VENTA PH...</td>\n",
       "      <td>HERMOSO PH EN PALERMO!!!2 AMBIENTES TOTALMENTE...</td>\n",
       "      <td>PH</td>\n",
       "      <td>Venta</td>\n",
       "      <td>cheap</td>\n",
       "      <td>1</td>\n",
       "    </tr>\n",
       "    <tr>\n",
       "      <th>5</th>\n",
       "      <td>2019-10-17</td>\n",
       "      <td>2019-11-01</td>\n",
       "      <td>2019-10-17</td>\n",
       "      <td>Argentina</td>\n",
       "      <td>Capital Federal</td>\n",
       "      <td>Villa Crespo</td>\n",
       "      <td>2.0</td>\n",
       "      <td>1.0</td>\n",
       "      <td>1.0</td>\n",
       "      <td>56.0</td>\n",
       "      <td>56.0</td>\n",
       "      <td>150000.0</td>\n",
       "      <td>USD</td>\n",
       "      <td>Depto.tipo casa de 2 ambientes en Venta en Vil...</td>\n",
       "      <td>Excelente ph solo 2 unidades, no paga expensas...</td>\n",
       "      <td>PH</td>\n",
       "      <td>Venta</td>\n",
       "      <td>cheap</td>\n",
       "      <td>1</td>\n",
       "    </tr>\n",
       "  </tbody>\n",
       "</table>\n",
       "</div>"
      ],
      "text/plain": [
       "   start_date    end_date  created_on         l1               l2  \\\n",
       "0  2019-10-17  2019-12-23  2019-10-17  Argentina  Capital Federal   \n",
       "1  2019-10-17  2019-11-21  2019-10-17  Argentina  Capital Federal   \n",
       "2  2019-10-17  2019-11-01  2019-10-17  Argentina  Capital Federal   \n",
       "3  2019-10-17  2019-12-23  2019-10-17  Argentina  Capital Federal   \n",
       "5  2019-10-17  2019-11-01  2019-10-17  Argentina  Capital Federal   \n",
       "\n",
       "              l3  rooms  bedrooms  bathrooms  surface_total  surface_covered  \\\n",
       "0  San Cristobal    7.0       7.0        2.0          140.0            140.0   \n",
       "1          Boedo    2.0       1.0        2.0           70.0             58.0   \n",
       "2        Palermo    2.0       1.0        1.0           45.0             45.0   \n",
       "3        Palermo    2.0       1.0        1.0           85.0             50.0   \n",
       "5   Villa Crespo    2.0       1.0        1.0           56.0             56.0   \n",
       "\n",
       "      price currency                                              title  \\\n",
       "0  153000.0      USD        ***Venta semipiso centro, ideal hostel*****   \n",
       "1  159000.0      USD   Espectacular PH reciclado en Boedo sin expensas.   \n",
       "2  125000.0      USD  Depto.tipo casa de 2 ambientes en Venta en Pal...   \n",
       "3  295000.0      USD  COSTA RICA 5800 / PALERMO HOLLYWOOD / VENTA PH...   \n",
       "5  150000.0      USD  Depto.tipo casa de 2 ambientes en Venta en Vil...   \n",
       "\n",
       "                                         description property_type  \\\n",
       "0  DESCRIPCION DE LA PROPIEDAD: Departamento de 1...  Departamento   \n",
       "1   PH reciclado en Boedo a una cuadra de la plaz...            PH   \n",
       "2  2 ambienets amplio , excelente estado , patio ...            PH   \n",
       "3  HERMOSO PH EN PALERMO!!!2 AMBIENTES TOTALMENTE...            PH   \n",
       "5  Excelente ph solo 2 unidades, no paga expensas...            PH   \n",
       "\n",
       "  operation_type price_label  int_surface  \n",
       "0          Venta       cheap            2  \n",
       "1          Venta       cheap            2  \n",
       "2          Venta       cheap            1  \n",
       "3          Venta       cheap            1  \n",
       "5          Venta       cheap            1  "
      ]
     },
     "execution_count": 32,
     "metadata": {},
     "output_type": "execute_result"
    }
   ],
   "source": [
    "mascara = (data_no_out['surface_total'] >= data_no_out['surface_covered'])\n",
    "data_no_out_1 = data_no_out[mascara]\n",
    "print('El tamaño del dataset enel que todas las instancias tienen una superficie total, mayor a una superficie cubierta, es:',data_no_out_1.shape)\n",
    "data_no_out_1.head()"
   ]
  },
  {
   "cell_type": "code",
   "execution_count": 33,
   "metadata": {},
   "outputs": [
    {
     "name": "stdout",
     "output_type": "stream",
     "text": [
      "0          0.0\n",
      "1         12.0\n",
      "2          0.0\n",
      "3         35.0\n",
      "5          0.0\n",
      "          ... \n",
      "146552    61.0\n",
      "146553     6.0\n",
      "146554    64.0\n",
      "146555    10.0\n",
      "146557     0.0\n",
      "Length: 82167, dtype: float64\n"
     ]
    }
   ],
   "source": [
    "dif_sup=mascara = data_no_out_1['surface_total'] - data_no_out_1['surface_covered']\n",
    "print(dif_sup)"
   ]
  },
  {
   "cell_type": "code",
   "execution_count": 34,
   "metadata": {},
   "outputs": [
    {
     "data": {
      "text/plain": [
       "count    82167.000000\n",
       "mean         9.176049\n",
       "std         13.047929\n",
       "min          0.000000\n",
       "25%          0.000000\n",
       "50%          6.000000\n",
       "75%         13.915442\n",
       "max        171.982074\n",
       "dtype: float64"
      ]
     },
     "execution_count": 34,
     "metadata": {},
     "output_type": "execute_result"
    }
   ],
   "source": [
    "dif_sup.describe()"
   ]
  },
  {
   "cell_type": "code",
   "execution_count": 35,
   "metadata": {},
   "outputs": [
    {
     "data": {
      "text/plain": [
       "Text(0, 0.5, 'Price')"
      ]
     },
     "execution_count": 35,
     "metadata": {},
     "output_type": "execute_result"
    },
    {
     "data": {
      "image/png": "[encoded data removed]",
      "text/plain": [
       "<Figure size 432x288 with 1 Axes>"
      ]
     },
     "metadata": {
      "needs_background": "light"
     },
     "output_type": "display_data"
    }
   ],
   "source": [
    "sns.boxplot (data = data_no_out_1, x = 'property_type', y = 'price')\n",
    "plt.title ('Price box plot by property type')\n",
    "\n",
    "plt.xlabel ('Property Type')\n",
    "plt.ylabel ('Price')"
   ]
  },
  {
   "cell_type": "code",
   "execution_count": 36,
   "metadata": {},
   "outputs": [],
   "source": [
    "def remove_outlier_pr(data_no_out_1, price):\n",
    "    q1 = data_no_out_1['price'].quantile(0.25)\n",
    "    q3 = data_no_out_1['price'].quantile(0.75)\n",
    "    iqr = q3-q1 #Interquartile range\n",
    "    fence_low  = q1-1.5*iqr\n",
    "    fence_high = q3+1.5*iqr\n",
    "    data_no_out_price = data_no_out_1.loc[(data_no_out_1['price'] > fence_low) & (data_no_out_1['price'] < fence_high)]\n",
    "    return data_no_out_price"
   ]
  },
  {
   "cell_type": "code",
   "execution_count": 37,
   "metadata": {},
   "outputs": [],
   "source": [
    "data_no_out_price=remove_outlier_pr(data_no_out_1, 'price')"
   ]
  },
  {
   "cell_type": "code",
   "execution_count": 38,
   "metadata": {},
   "outputs": [
    {
     "data": {
      "text/plain": [
       "(77302, 19)"
      ]
     },
     "execution_count": 38,
     "metadata": {},
     "output_type": "execute_result"
    }
   ],
   "source": [
    "data_no_out_price.shape"
   ]
  },
  {
   "cell_type": "code",
   "execution_count": 39,
   "metadata": {},
   "outputs": [
    {
     "data": {
      "text/plain": [
       "Text(0, 0.5, 'Price')"
      ]
     },
     "execution_count": 39,
     "metadata": {},
     "output_type": "execute_result"
    },
    {
     "data": {
      "image/png": "[encoded data removed]",
      "text/plain": [
       "<Figure size 432x288 with 1 Axes>"
      ]
     },
     "metadata": {
      "needs_background": "light"
     },
     "output_type": "display_data"
    }
   ],
   "source": [
    "sns.boxplot (data = data_no_out_price, x = 'property_type', y = 'price')\n",
    "plt.title ('Price box plot by property type')\n",
    "\n",
    "plt.xlabel ('Property Type')\n",
    "plt.ylabel ('Price')"
   ]
  },
  {
   "cell_type": "code",
   "execution_count": null,
   "metadata": {},
   "outputs": [
    {
     "data": {
      "text/plain": [
       "<seaborn.axisgrid.PairGrid at 0x18d98a47c40>"
      ]
     },
     "execution_count": 40,
     "metadata": {},
     "output_type": "execute_result"
    }
   ],
   "source": [
    "sns.pairplot(data_no_out_price, hue='property_type')"
   ]
  },
  {
   "cell_type": "code",
   "execution_count": null,
   "metadata": {},
   "outputs": [],
   "source": [
    "corr1=data_no_out_price.corr()"
   ]
  },
  {
   "cell_type": "code",
   "execution_count": null,
   "metadata": {
    "colab": {},
    "colab_type": "code",
    "id": "4DJ-aGD-C4PG"
   },
   "outputs": [],
   "source": [
    "\n",
    "corr1 = data_no_out_price.corr ()\n",
    "plt.figure (figsize = (8,8))\n",
    "sns.heatmap (corr1, cbar = True, square = True, annot = True, fmt = '.2f', annot_kws = {'size': 15}, cmap = 'coolwarm')\n",
    "plt.xticks (rotation = 45)\n",
    "plt.yticks (rotation = 45)\n",
    "plt.title ('General Correlation')\n",
    "plt.show ()\n"
   ]
  },
  {
   "cell_type": "code",
   "execution_count": null,
   "metadata": {},
   "outputs": [],
   "source": [
    "data_casa=data_no_out_price[data_no_out_price['property_type']=='Casa']\n",
    "data_casa.head()\n",
    "corr2=data_casa.corr()\n",
    "plt.figure(figsize=(8,8))\n",
    "sns.heatmap(corr2, cbar = True,  square = True, annot=True, fmt= '.2f',annot_kws={'size': 15}, cmap= 'coolwarm')\n",
    "plt.xticks(rotation = 45)\n",
    "plt.yticks(rotation = 45)\n",
    "plt.title('Correlación Casa')\n",
    "plt.show()\n",
    "\n",
    "data_depa=data_no_out_price[data_no_out_price['property_type']=='Departamento']\n",
    "data_depa.head()\n",
    "corr3=data_depa.corr()\n",
    "plt.figure(figsize=(8,8))\n",
    "sns.heatmap(corr3, cbar = True,  square = True, annot=True, fmt= '.2f',annot_kws={'size': 15}, cmap= 'coolwarm')\n",
    "plt.xticks(rotation = 45)\n",
    "plt.yticks(rotation = 45)\n",
    "plt.title('Correlación Departamento')\n",
    "plt.show()\n",
    "\n",
    "data_ph=data_no_out_price[data_no_out_price['property_type']=='PH']\n",
    "data_ph.head()\n",
    "corr4=data_ph.corr()\n",
    "plt.figure(figsize=(8,8))\n",
    "sns.heatmap(corr4, cbar = True,  square = True, annot=True, fmt= '.2f',annot_kws={'size': 15}, cmap= 'coolwarm')\n",
    "plt.xticks(rotation = 45)\n",
    "plt.yticks(rotation = 45)\n",
    "plt.title('Correlación PH')\n",
    "plt.show()"
   ]
  },
  {
   "cell_type": "markdown",
   "metadata": {
    "colab_type": "text",
    "id": "AUBaOrNYC4PK"
   },
   "source": [
    "### Challenge"
   ]
  },
  {
   "cell_type": "markdown",
   "metadata": {},
   "source": [
    "### Average of the variables rooms, bedrooms, bathrooms according to the type of property\n",
    "For the challenge, it was decided to obtain the average of the variables rooms, bedrooms and bathrooms according to the type of property"
   ]
  },
  {
   "cell_type": "code",
   "execution_count": null,
   "metadata": {},
   "outputs": [],
   "source": [
    "#Divide Bedrooms between Bathrooms\n",
    "df_pbaños=pd.DataFrame(data_prope.drop(columns=['surface_total','surface_covered','price']).groupby('property_type').mean().sort_values(by='rooms',ascending=False))\n",
    "df_pbaños.head(10)"
   ]
  },
  {
   "cell_type": "code",
   "execution_count": null,
   "metadata": {},
   "outputs": [],
   "source": [
    "df_pbaños.plot (kind = 'bar', figsize = (13,5))\n",
    "plt.title ('Average variables')"
   ]
  },
  {
   "cell_type": "markdown",
   "metadata": {},
   "source": [
    "#### Conclusions\n",
    "It can be seen that the greater the number of 'rooms', the greater the number of 'bedrooms' in each type of property. However, with the 'Bathrooms', the same does not happen, for example in warehouses and garages there are more bathrooms than bedrooms, which is logical since these types of spaces are usually open spaces.\n",
    "This information may be biased, since being averages they can be dragged by the outlier data."
   ]
  },
  {
   "cell_type": "markdown",
   "metadata": {
    "colab_type": "text",
    "id": "ULhoMAo_C4PP"
   },
   "source": [
    "\n",
    "#### Machine learning\n"
   ]
  },
  {
   "cell_type": "code",
   "execution_count": null,
   "metadata": {
    "colab": {},
    "colab_type": "code",
    "id": "QSqa1vJQC4PR"
   },
   "outputs": [],
   "source": [
    "\n",
    "data_ml=pd.read_csv('DS_Proyecto_01_Datos_Properati.csv')\n",
    "data_ml1=data_ml[(data_ml.property_type.isin(['Departamento','Casa','PH']))& (data_ml.l2.isin(['Capital Federal']))]\n",
    "data_ml1.shape\n"
   ]
  },
  {
   "cell_type": "code",
   "execution_count": null,
   "metadata": {},
   "outputs": [],
   "source": [
    "data_ml2=data_ml1[(data_ml1['surface_total']>=15) & (data_ml1['surface_total']<=1000)&(data_ml1['price']<=4000000)]\n",
    "data_ml2.shape"
   ]
  },
  {
   "cell_type": "code",
   "execution_count": null,
   "metadata": {},
   "outputs": [],
   "source": [
    "data_ml3= data_ml2[['rooms','bedrooms','bathrooms','surface_total','surface_covered','price']]\n",
    "data_ml3.shape"
   ]
  },
  {
   "cell_type": "code",
   "execution_count": null,
   "metadata": {},
   "outputs": [],
   "source": [
    "data_ml3.isna().sum()"
   ]
  },
  {
   "cell_type": "code",
   "execution_count": null,
   "metadata": {},
   "outputs": [],
   "source": [
    "data_ml4=data_ml3.dropna()\n",
    "data_ml4.shape"
   ]
  },
  {
   "cell_type": "code",
   "execution_count": null,
   "metadata": {
    "scrolled": true
   },
   "outputs": [],
   "source": [
    "data_ml4.describe()"
   ]
  },
  {
   "cell_type": "code",
   "execution_count": null,
   "metadata": {},
   "outputs": [],
   "source": [
    "X = data_ml4[['rooms','bedrooms','bathrooms','surface_total','surface_covered']]\n",
    "y=data_ml4['price']"
   ]
  },
  {
   "cell_type": "code",
   "execution_count": null,
   "metadata": {},
   "outputs": [],
   "source": [
    "from sklearn.model_selection import train_test_split\n",
    "from sklearn.linear_model import LinearRegression\n",
    "from sklearn.tree import DecisionTreeRegressor\n",
    "from sklearn.neighbors import KNeighborsRegressor\n",
    "from sklearn import datasets, linear_model\n",
    "from sklearn.metrics import mean_squared_error, r2_score"
   ]
  },
  {
   "cell_type": "code",
   "execution_count": null,
   "metadata": {},
   "outputs": [],
   "source": [
    "X_train, X_test, y_train, y_test = train_test_split(X, y, test_size=0.30, random_state=42)\n",
    "print(X_train.shape, y_train.shape, X_test.shape, y_test.shape)"
   ]
  },
  {
   "cell_type": "code",
   "execution_count": null,
   "metadata": {},
   "outputs": [],
   "source": [
    "linear_model = linear_model.LinearRegression()"
   ]
  },
  {
   "cell_type": "code",
   "execution_count": null,
   "metadata": {},
   "outputs": [],
   "source": [
    "linear_model.fit(X_train, y_train)"
   ]
  },
  {
   "cell_type": "code",
   "execution_count": null,
   "metadata": {},
   "outputs": [],
   "source": [
    "y_pred_test = linear_model.predict(X_test)\n",
    "y_pred_train = linear_model.predict(X_train)"
   ]
  },
  {
   "cell_type": "code",
   "execution_count": null,
   "metadata": {},
   "outputs": [],
   "source": [
    "print('Mean squared error: %.2f'\n",
    "      %mean_squared_error(y_test, y_pred_test))\n",
    "print('Coefficient of determination: %.2f'\n",
    "      %r2_score(y_test, y_pred_test))\n",
    "rmse_train = np.sqrt(mean_squared_error(y_train, y_pred_train))\n",
    "rmse_test = np.sqrt(mean_squared_error(y_test, y_pred_test))\n",
    "print (f'Root mean square error in Train: {rmse_train} ')\n",
    "print (f'Root of mean square error in Test: {rmse_test} ')"
   ]
  },
  {
   "cell_type": "code",
   "execution_count": null,
   "metadata": {},
   "outputs": [],
   "source": [
    "tree_regressor = DecisionTreeRegressor(max_depth=20, random_state=42)\n",
    "knn_regressor = KNeighborsRegressor(n_neighbors=1)"
   ]
  },
  {
   "cell_type": "code",
   "execution_count": null,
   "metadata": {},
   "outputs": [],
   "source": [
    "tree_regressor.fit(X_train, y_train)\n",
    "knn_regressor.fit(X_train, y_train)"
   ]
  },
  {
   "cell_type": "code",
   "execution_count": null,
   "metadata": {},
   "outputs": [],
   "source": [
    "from sklearn.metrics import mean_squared_error\n",
    "import seaborn as sns\n",
    "modelos = ['Linear Regression', 'Decision Tree', 'Nearest Neighbors']\n",
    "\n",
    "for i, model in enumerate([linear_model, tree_regressor, knn_regressor]):\n",
    "    y_train_pred = model.predict(X_train)\n",
    "    y_test_pred = model.predict(X_test)\n",
    "    \n",
    "    \n",
    "    print(f'Modelo: {modelos[i]}')\n",
    "\n",
    "    rmse_train = np.sqrt(mean_squared_error(y_train, y_train_pred))\n",
    "    rmse_test = np.sqrt(mean_squared_error(y_test, y_test_pred))\n",
    "    print(f'Root mean square error in Train: {rmse_train}')\n",
    "    print(f'Root mean square error in Test: {rmse_test}')\n",
    "    \n",
    "    plt.figure(figsize = (8,4))\n",
    "\n",
    "    plt.subplot(1,2,1)\n",
    "    sns.distplot(y_train - y_train_pred, bins = 20, label = 'train')\n",
    "    sns.distplot(y_test - y_test_pred, bins = 20, label = 'test')\n",
    "    plt.xlabel('errors')\n",
    "    plt.legend()\n",
    "\n",
    "\n",
    "    ax = plt.subplot(1,2,2)\n",
    "    ax.scatter(y_test,y_test_pred, s =2)\n",
    "    \n",
    "    lims = [\n",
    "    np.min([ax.get_xlim(), ax.get_ylim()]),  # min of both axes\n",
    "    np.max([ax.get_xlim(), ax.get_ylim()]),  # max of both axes]\n",
    "    ]\n",
    "    \n",
    "    ax.plot(lims, lims, 'k-', alpha=0.75, zorder=0)\n",
    "    plt.xlabel('y (test)')\n",
    "    plt.ylabel('y_pred (test)')\n",
    "    \n",
    "    plt.tight_layout()\n",
    "    plt.show()"
   ]
  },
  {
   "cell_type": "code",
   "execution_count": null,
   "metadata": {},
   "outputs": [],
   "source": [
    "# We define the empty lists for the desired RMSE values\n",
    "lista_RMSE_train = []\n",
    "lista_RMSE_test = []\n",
    "\n",
    "# We define the list of values of m that we are going to explore\n",
    "max_depth = [1,2,3,4,5,6,7,8,9,10,11,12,13,14,15,16,17,18,19,20,21,22,23,25,25]\n",
    "\n",
    "# We generate in loop over the different values of k\n",
    "for m in max_depth:\n",
    "    \n",
    "    # We are going to repeat the following code block\n",
    "    \n",
    "    # Define the model with the desired value of neighbors\n",
    "    tree_regressor = DecisionTreeRegressor(max_depth=m, random_state = 42)\n",
    "    \n",
    "    # Train the model\n",
    "    tree_regressor.fit(X_train, y_train)\n",
    "    \n",
    "    # Predict and evaluate on the training set\n",
    "    y_train_pred = tree_regressor.predict(X_train)\n",
    "    train_RMSE = np.sqrt(mean_squared_error(y_train,  y_train_pred))\n",
    "    \n",
    "    # Predict and evaluate on the evaluation set\n",
    "    y_test_pred = tree_regressor.predict(X_test)\n",
    "    test_RMSE= np.sqrt(mean_squared_error(y_test,  y_test_pred ))\n",
    "    \n",
    "    # Adding information to lists\n",
    "    lista_RMSE_train.append(train_RMSE)\n",
    "    lista_RMSE_test.append(test_RMSE)\n"
   ]
  },
  {
   "cell_type": "code",
   "execution_count": null,
   "metadata": {},
   "outputs": [],
   "source": [
    "CV = plt.figure(figsize=(20,6))\n",
    "plt.plot(max_depth,lista_RMSE_train,'o-',label='train')\n",
    "plt.plot(max_depth,lista_RMSE_test,'o-',label='test')\n",
    "plt.legend()\n",
    "plt.grid()\n",
    "plt.xlabel('Depth')\n",
    "plt.ylabel('Root mean square error')\n",
    "plt.title('Validation Curve')\n"
   ]
  },
  {
   "cell_type": "code",
   "execution_count": null,
   "metadata": {},
   "outputs": [],
   "source": [
    "\n",
    "from sklearn.neighbors import KNeighborsRegressor\n",
    "# We define the empty lists for the desired accuracy values\n",
    "lista_RMSE_train = []\n",
    "lista_RMSE_test = []\n",
    "\n",
    "# We define the list of k values that we are going to explore\n",
    "k_vecinos = [1,2,3,4,5,6,7,8,9,10,15,20,25,30,35,40,50]\n",
    "\n",
    "# We generate in loop over the different values of k\n",
    "for k in k_vecinos:\n",
    "    \n",
    "# We are going to repeat the following code block\n",
    "    \n",
    "    # Define the model with the desired value of neighbors\n",
    "    knn_regressor = KNeighborsRegressor(n_neighbors=k)\n",
    "    \n",
    "   # Train the model\n",
    "    knn_regressor.fit(X_train,y_train)\n",
    "    \n",
    " # Predict and evaluate on the training set\n",
    "    y_train_pred = knn_regressor.predict(X_train)\n",
    "    train_RMSE = np.sqrt(mean_squared_error(y_train,  y_train_pred))\n",
    "    \n",
    "# Predict and evaluate on the evaluation set\n",
    "    y_test_pred = knn_regressor.predict(X_test)\n",
    "    test_RMSE= np.sqrt(mean_squared_error(y_test,  y_test_pred ))\n",
    "    \n",
    "   # Add the information to the lists\n",
    "    lista_RMSE_train.append(train_RMSE)\n",
    "    lista_RMSE_test.append(test_RMSE)"
   ]
  },
  {
   "cell_type": "code",
   "execution_count": null,
   "metadata": {},
   "outputs": [],
   "source": [
    "CV2 = plt.figure(figsize=(20,6))\n",
    "plt.plot(k_vecinos,lista_RMSE_train,'o-',label='train')\n",
    "plt.plot(k_vecinos,lista_RMSE_test,'o-',label='test')\n",
    "plt.legend()\n",
    "plt.grid()\n",
    "plt.xlabel('Number of Neighbors')\n",
    "plt.ylabel('Root mean square error')\n",
    "plt.title('Validation Curve')"
   ]
  },
  {
   "cell_type": "markdown",
   "metadata": {},
   "source": [
    "##### Optimized models\n",
    "For the tree model, the hyperparameter max_depth = 17 is chosen\n",
    "For the KNN model, the hyperparameter n_neighbors = 3 is chosen)"
   ]
  },
  {
   "cell_type": "code",
   "execution_count": null,
   "metadata": {},
   "outputs": [],
   "source": [
    "tree_regressor_opt = DecisionTreeRegressor(max_depth=17, random_state=42)\n",
    "knn_regressor_opt = KNeighborsRegressor(n_neighbors=3)"
   ]
  },
  {
   "cell_type": "code",
   "execution_count": null,
   "metadata": {},
   "outputs": [],
   "source": [
    "tree_regressor_opt.fit(X_train, y_train)\n",
    "knn_regressor_opt.fit(X_train, y_train)"
   ]
  },
  {
   "cell_type": "code",
   "execution_count": null,
   "metadata": {},
   "outputs": [],
   "source": [
    "from sklearn.metrics import mean_squared_error\n",
    "import seaborn as sns\n",
    "modelos = ['Linear Regression', 'Decision Tree', 'Nearest Neighbors']\n",
    "\n",
    "for i, model in enumerate([linear_model, tree_regressor_opt, knn_regressor_opt]):\n",
    "    y_train_pred = model.predict(X_train)\n",
    "    y_test_pred = model.predict(X_test)\n",
    "    \n",
    "    \n",
    "    print(f'Model: {modelos[i]}')\n",
    "\n",
    "    rmse_train = np.sqrt(mean_squared_error(y_train, y_train_pred))\n",
    "    rmse_test = np.sqrt(mean_squared_error(y_test, y_test_pred))\n",
    "    print(f'Root mean square error in Train: {rmse_train}')\n",
    "    print(f'Root mean square error in Test: {rmse_test}')\n",
    "    \n",
    "    plt.figure(figsize = (8,4))\n",
    "\n",
    "    plt.subplot(1,2,1)\n",
    "    sns.distplot(y_train - y_train_pred, bins = 20, label = 'train')\n",
    "    sns.distplot(y_test - y_test_pred, bins = 20, label = 'test')\n",
    "    plt.xlabel('errors')\n",
    "    plt.legend()\n",
    "\n",
    "    ax = plt.subplot(1,2,2)\n",
    "    ax.scatter(y_test,y_test_pred, s =2)\n",
    "    \n",
    "    lims = [\n",
    "    np.min([ax.get_xlim(), ax.get_ylim()]),  # min of both axes\n",
    "    np.max([ax.get_xlim(), ax.get_ylim()]),  # max of both axes]\n",
    "    ]\n",
    "    \n",
    "    ax.plot(lims, lims, 'k-', alpha=0.75, zorder=0)\n",
    "    plt.xlabel('y (test)')\n",
    "    plt.ylabel('y_pred (test)')\n",
    "    \n",
    "    plt.tight_layout()\n",
    "    plt.show()"
   ]
  },
  {
   "cell_type": "code",
   "execution_count": null,
   "metadata": {},
   "outputs": [],
   "source": [
    "import numpy as np\n",
    "import pandas as pd\n",
    "from sklearn.datasets import load_digits\n",
    "from sklearn.model_selection import train_test_split\n",
    "from sklearn.linear_model import LogisticRegression\n",
    "from sklearn.cluster import KMeans\n",
    "from sklearn.metrics import accuracy_score\n",
    "\n",
    "class clust():\n",
    "    def _load_data(self, data_prope):\n",
    "        data = data_prope\n",
    "        X = pd.DataFrame(data.data)\n",
    "        self.X_train, self.X_test, self.y_train, self.y_test = train_test_split(X, data.target, test_size=0.3, random_state=42)\n",
    "        \n",
    "        \n",
    "    def __init__(self, sklearn_load_ds):\n",
    "        self._load_data(sklearn_load_ds)\n",
    "    \n",
    "    \n",
    "    def classify(self, model=LogisticRegression(random_state=42)):\n",
    "        model.fit(self.X_train, self.y_train)\n",
    "        y_pred = model.predict(self.X_test)\n",
    "        print('Accuracy: {}'.format(accuracy_score(self.y_test, y_pred)))\n",
    "\n",
    "\n",
    "    def Kmeans(self, output='add'):\n",
    "        n_clusters = len(np.unique(self.y_train))\n",
    "        clf = KMeans(n_clusters = n_clusters, random_state=42)\n",
    "        clf.fit(self.X_train)\n",
    "        y_labels_train = clf.labels_\n",
    "        y_labels_test = clf.predict(self.X_test)\n",
    "        if output == 'add':\n",
    "            self.X_train['km_clust'] = y_labels_train\n",
    "            self.X_test['km_clust'] = y_labels_test\n",
    "        elif output == 'replace':\n",
    "            self.X_train = y_labels_train[:, np.newaxis]\n",
    "            self.X_test = y_labels_test[:, np.newaxis]\n",
    "        else:\n",
    "            raise ValueError('output should be either add or replace')\n",
    "        return self"
   ]
  },
  {
   "cell_type": "code",
   "execution_count": null,
   "metadata": {},
   "outputs": [],
   "source": [
    "# prediction without using Kmean,s clusters\n",
    "clust(load_digits()).classify()"
   ]
  },
  {
   "cell_type": "code",
   "execution_count": null,
   "metadata": {},
   "outputs": [],
   "source": [
    "#prediction using Kmeans clusters and another classifiers \n",
    "clust(load_digits()).Kmeans(output='add').classify()"
   ]
  },
  {
   "cell_type": "markdown",
   "metadata": {},
   "source": [
    "##### Conclusions"
   ]
  },
  {
   "cell_type": "markdown",
   "metadata": {},
   "source": [
    "* The methodology used can be improved by doing a correct cleaning of the data.\n",
    "* Also only the variables `rooms`,` bedrooms`, `bathrooms`,` surface_total`, `surface_covered` and` price` were taken into account for the prediction, leaving aside the type of property, which can be critical for the appraise the property.\n",
    "* In the previous point it was observed that there was a high correlation between `surface_total` and` surface_covered`, it could be checked if taking into account only one of these, similar results would be obtained and the models would be simplified.\n",
    "* The location is not being taken into account, which makes the production less successful, since a property with 3 bedrooms and two bathrooms in a luxurious neighborhood is not the same as a property with the same characteristics in a more humble neighborhood.\n"
   ]
  }
 ],
 "metadata": {
  "colab": {
   "collapsed_sections": [],
   "name": "DS_Proyecto_01.ipynb",
   "provenance": []
  },
  "kernelspec": {
   "display_name": "Python 3",
   "language": "python",
   "name": "python3"
  },
  "language_info": {
   "codemirror_mode": {
    "name": "ipython",
    "version": 3
   },
   "file_extension": ".py",
   "mimetype": "text/x-python",
   "name": "python",
   "nbconvert_exporter": "python",
   "pygments_lexer": "ipython3",
   "version": "3.8.5"
  }
 },
 "nbformat": 4,
 "nbformat_minor": 1
}
